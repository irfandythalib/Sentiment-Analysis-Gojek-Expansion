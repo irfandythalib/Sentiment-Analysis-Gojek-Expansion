{
 "cells": [
  {
   "cell_type": "code",
   "execution_count": 3,
   "metadata": {},
   "outputs": [],
   "source": [
    "import csv\n",
    "import nltk\n",
    "from nltk.tokenize import RegexpTokenizer\n",
    "tokenizer = RegexpTokenizer(r'\\w+')\n",
    "import re\n",
    "\n",
    "from nltk.corpus import stopwords\n",
    "cachedStopWords = stopwords.words(\"english\")"
   ]
  },
  {
   "cell_type": "code",
   "execution_count": 4,
   "metadata": {},
   "outputs": [],
   "source": [
    "target = 'dataset-machine-learning.csv'\n",
    "with open(target,'r',encoding='utf-8') as csvFile:\n",
    "    csvReader = csv.reader(csvFile, delimiter=',')\n",
    "    next(csvReader)\n",
    "    words = []\n",
    "    classes = []\n",
    "    documents = []\n",
    "    \n",
    "    for row in csvReader:\n",
    "        sentence = row[4].lower()\n",
    "        sentence = re.sub(r\"http\\S+\", \"\", sentence)\n",
    "        sentence = re.sub(r\"pic.twitter.com\\S+\", \"\",sentence)\n",
    "        sentence = re.sub(r\"[^a-zA-Z0-9]+\", ' ', sentence)\n",
    "        sentence = ' '.join([word for word in sentence.split() if word not in cachedStopWords])\n",
    "        sentenceclass = row[3]\n",
    "        cleanword = tokenizer.tokenize(sentence)\n",
    "        words.extend(cleanword)\n",
    "        documents.append((cleanword, sentenceclass))\n",
    "        if sentenceclass not in classes:\n",
    "            classes.append(sentenceclass)\n",
    "        \n",
    "    \n",
    "    words = list(set(words))\n",
    "    classes = list(set(classes))"
   ]
  },
  {
   "cell_type": "code",
   "execution_count": 5,
   "metadata": {},
   "outputs": [
    {
     "name": "stdout",
     "output_type": "stream",
     "text": [
      "2848\n",
      "['2', '1', '0']\n",
      "[(['asap', 'gojek', 'datang', 'malaysia'], '1')]\n"
     ]
    }
   ],
   "source": [
    "print(len(documents))\n",
    "print(classes)\n",
    "print(documents[:1])\n",
    "# print(words)"
   ]
  },
  {
   "cell_type": "markdown",
   "metadata": {},
   "source": [
    "### BOW Vector"
   ]
  },
  {
   "cell_type": "code",
   "execution_count": 6,
   "metadata": {},
   "outputs": [],
   "source": [
    "training = []\n",
    "output = []\n",
    "outputclass = []\n",
    "output_empty = [0] * len(classes)\n",
    "\n",
    "for doc in documents:\n",
    "    bag = []\n",
    "    \n",
    "    pattern_words = doc[0]\n",
    "    \n",
    "    for w in words:\n",
    "        bag.append(1) if w in pattern_words else bag.append(0)\n",
    "\n",
    "    training.append(bag)\n",
    "    output_row = list(output_empty)\n",
    "    output_row[classes.index(doc[1])] = 1\n",
    "    output.append(output_row)\n",
    "    outputclass.extend(doc[1])"
   ]
  },
  {
   "cell_type": "markdown",
   "metadata": {},
   "source": [
    "### Training and Testing"
   ]
  },
  {
   "cell_type": "code",
   "execution_count": 7,
   "metadata": {},
   "outputs": [],
   "source": [
    "from sklearn.model_selection import cross_val_score\n",
    "from sklearn.model_selection import train_test_split\n",
    "from sklearn.metrics import classification_report,confusion_matrix\n",
    "\n",
    "a_train, a_test, b_train, b_test = train_test_split(training, outputclass, test_size=0.33, random_state=42)"
   ]
  },
  {
   "cell_type": "code",
   "execution_count": 8,
   "metadata": {},
   "outputs": [
    {
     "name": "stdout",
     "output_type": "stream",
     "text": [
      "              precision    recall  f1-score   support\n",
      "\n",
      "           0       0.42      0.10      0.16        49\n",
      "           1       0.88      0.89      0.89       673\n",
      "           2       0.60      0.68      0.64       218\n",
      "\n",
      "    accuracy                           0.80       940\n",
      "   macro avg       0.63      0.56      0.56       940\n",
      "weighted avg       0.79      0.80      0.79       940\n",
      "\n",
      "Result :  [0.61996497 0.72631579 0.82425308 0.65905097 0.6344464 ]\n",
      "Mean :  0.6928062405142585\n",
      "Max :  0.8242530755711776\n"
     ]
    }
   ],
   "source": [
    "# Neural Network model\n",
    "from sklearn.neural_network import MLPClassifier\n",
    "model = MLPClassifier(hidden_layer_sizes=(13,13,13),max_iter=500)\n",
    "model.fit(a_train,b_train)\n",
    "\n",
    "predictions = model.predict(a_test)\n",
    "print(classification_report(b_test,predictions))\n",
    "\n",
    "scores = cross_val_score(model, training, outputclass, cv=5, scoring='accuracy')\n",
    "print(\"Result : \", scores)\n",
    "print(\"Mean : \", scores.mean())\n",
    "print(\"Max : \", scores.max())"
   ]
  },
  {
   "cell_type": "code",
   "execution_count": 9,
   "metadata": {},
   "outputs": [
    {
     "name": "stdout",
     "output_type": "stream",
     "text": [
      "              precision    recall  f1-score   support\n",
      "\n",
      "           0       0.29      0.18      0.23        49\n",
      "           1       0.77      0.47      0.58       673\n",
      "           2       0.26      0.60      0.36       218\n",
      "\n",
      "    accuracy                           0.48       940\n",
      "   macro avg       0.44      0.42      0.39       940\n",
      "weighted avg       0.63      0.48      0.51       940\n",
      "\n",
      "Result :  [0.46059545 0.38070175 0.13181019 0.51318102 0.63620387]\n",
      "Mean :  0.4244984560114039\n",
      "Max :  0.6362038664323374\n"
     ]
    }
   ],
   "source": [
    "# Gaussian Naive Bayes model\n",
    "from sklearn.naive_bayes import GaussianNB\n",
    "model = GaussianNB()\n",
    "model.fit(a_train,b_train)\n",
    "\n",
    "predictions = model.predict(a_test)\n",
    "print(classification_report(b_test,predictions))\n",
    "\n",
    "scores = cross_val_score(model, training, outputclass, cv=5, scoring='accuracy')\n",
    "print(\"Result : \", scores)\n",
    "print(\"Mean : \", scores.mean())\n",
    "print(\"Max : \", scores.max())"
   ]
  },
  {
   "cell_type": "code",
   "execution_count": 10,
   "metadata": {},
   "outputs": [
    {
     "name": "stdout",
     "output_type": "stream",
     "text": [
      "              precision    recall  f1-score   support\n",
      "\n",
      "           0       0.33      0.10      0.16        49\n",
      "           1       0.86      0.85      0.86       673\n",
      "           2       0.54      0.64      0.59       218\n",
      "\n",
      "    accuracy                           0.76       940\n",
      "   macro avg       0.58      0.53      0.53       940\n",
      "weighted avg       0.76      0.76      0.76       940\n",
      "\n",
      "Result :  [0.55341506 0.66315789 0.79964851 0.66080844 0.58699473]\n",
      "Mean :  0.6528049251257192\n",
      "Max :  0.7996485061511424\n"
     ]
    }
   ],
   "source": [
    "#Decision Tree model\n",
    "from sklearn.tree import DecisionTreeClassifier\n",
    "model = DecisionTreeClassifier()\n",
    "model.fit(a_train,b_train)\n",
    "\n",
    "predictions = model.predict(a_test)\n",
    "print(classification_report(b_test,predictions))\n",
    "\n",
    "scores = cross_val_score(model, training, outputclass, cv=5, scoring='accuracy')\n",
    "print(\"Result : \", scores)\n",
    "print(\"Mean : \", scores.mean())\n",
    "print(\"Max : \", scores.max())"
   ]
  },
  {
   "cell_type": "code",
   "execution_count": 11,
   "metadata": {},
   "outputs": [
    {
     "name": "stdout",
     "output_type": "stream",
     "text": [
      "              precision    recall  f1-score   support\n",
      "\n",
      "           0       0.44      0.14      0.22        49\n",
      "           1       0.88      0.89      0.88       673\n",
      "           2       0.60      0.65      0.62       218\n",
      "\n",
      "    accuracy                           0.80       940\n",
      "   macro avg       0.64      0.56      0.57       940\n",
      "weighted avg       0.79      0.80      0.79       940\n",
      "\n",
      "Result :  [0.61120841 0.7245614  0.82073814 0.70826011 0.55711775]\n",
      "Mean :  0.6843771605567247\n",
      "Max :  0.820738137082601\n"
     ]
    }
   ],
   "source": [
    "#SVM model\n",
    "from sklearn import svm\n",
    "model = svm.SVC(kernel='linear')\n",
    "model.fit(a_train,b_train)\n",
    "\n",
    "predictions = model.predict(a_test)\n",
    "print(classification_report(b_test,predictions))\n",
    "\n",
    "scores = cross_val_score(model, training, outputclass, cv=5, scoring='accuracy')\n",
    "print(\"Result : \", scores)\n",
    "print(\"Mean : \", scores.mean())\n",
    "print(\"Max : \", scores.max())"
   ]
  }
 ],
 "metadata": {
  "kernelspec": {
   "display_name": "Python 3",
   "language": "python",
   "name": "python3"
  },
  "language_info": {
   "codemirror_mode": {
    "name": "ipython",
    "version": 3
   },
   "file_extension": ".py",
   "mimetype": "text/x-python",
   "name": "python",
   "nbconvert_exporter": "python",
   "pygments_lexer": "ipython3",
   "version": "3.7.7"
  }
 },
 "nbformat": 4,
 "nbformat_minor": 2
}
