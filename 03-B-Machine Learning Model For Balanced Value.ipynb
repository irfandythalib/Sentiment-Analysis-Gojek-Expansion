{
 "cells": [
  {
   "cell_type": "code",
   "execution_count": 31,
   "metadata": {},
   "outputs": [],
   "source": [
    "import csv\n",
    "import nltk\n",
    "from nltk.tokenize import RegexpTokenizer\n",
    "tokenizer = RegexpTokenizer(r'\\w+')\n",
    "import re\n",
    "\n",
    "from nltk.corpus import stopwords\n",
    "cachedStopWords = stopwords.words(\"english\")"
   ]
  },
  {
   "cell_type": "code",
   "execution_count": 11,
   "metadata": {},
   "outputs": [],
   "source": [
    "target = 'dataset-machine-learning-balanced-value.csv'\n",
    "with open(target,'r',encoding='utf-8') as csvFile:\n",
    "    csvReader = csv.reader(csvFile, delimiter=';')\n",
    "    next(csvReader)\n",
    "    words = []\n",
    "    classes = []\n",
    "    documents = []\n",
    "    \n",
    "    for row in csvReader:\n",
    "        sentence = row[4].lower()\n",
    "        sentence = re.sub(r\"http\\S+\", \"\", sentence)\n",
    "        sentence = re.sub(r\"pic.twitter.com\\S+\", \"\",sentence)\n",
    "        sentence = re.sub(r\"[^a-zA-Z0-9]+\", ' ', sentence)\n",
    "        sentence = ' '.join([word for word in sentence.split() if word not in cachedStopWords])\n",
    "        sentenceclass = row[3]\n",
    "        cleanword = tokenizer.tokenize(sentence)\n",
    "        words.extend(cleanword)\n",
    "        documents.append((cleanword, sentenceclass))\n",
    "        if sentenceclass not in classes:\n",
    "            classes.append(sentenceclass)\n",
    "        \n",
    "    \n",
    "    words = list(set(words))\n",
    "    classes = list(set(classes))"
   ]
  },
  {
   "cell_type": "code",
   "execution_count": 12,
   "metadata": {},
   "outputs": [
    {
     "name": "stdout",
     "output_type": "stream",
     "text": [
      "381\n",
      "['1', '0', '2']\n",
      "[(['fking', 'dumb', 'thinking', 'gojek', 'cheaper'], '0')]\n"
     ]
    }
   ],
   "source": [
    "print(len(documents))\n",
    "print(classes)\n",
    "print(documents[:1])\n",
    "# print(words)"
   ]
  },
  {
   "cell_type": "markdown",
   "metadata": {},
   "source": [
    "### BOW Vector"
   ]
  },
  {
   "cell_type": "code",
   "execution_count": 13,
   "metadata": {},
   "outputs": [],
   "source": [
    "training = []\n",
    "output = []\n",
    "outputclass = []\n",
    "output_empty = [0] * len(classes)\n",
    "\n",
    "for doc in documents:\n",
    "    bag = []\n",
    "    \n",
    "    pattern_words = doc[0]\n",
    "    \n",
    "    for w in words:\n",
    "        bag.append(1) if w in pattern_words else bag.append(0)\n",
    "\n",
    "    training.append(bag)\n",
    "    output_row = list(output_empty)\n",
    "    output_row[classes.index(doc[1])] = 1\n",
    "    output.append(output_row)\n",
    "    outputclass.extend(doc[1])"
   ]
  },
  {
   "cell_type": "markdown",
   "metadata": {},
   "source": [
    "### Training and Testing"
   ]
  },
  {
   "cell_type": "code",
   "execution_count": 32,
   "metadata": {},
   "outputs": [],
   "source": [
    "from sklearn.model_selection import cross_val_score\n",
    "from sklearn.model_selection import train_test_split\n",
    "from sklearn.metrics import classification_report,confusion_matrix\n",
    "import matplotlib.pyplot as plt\n",
    "from yellowbrick.classifier import ConfusionMatrix\n",
    "\n",
    "a_train, a_test, b_train, b_test = train_test_split(training, outputclass, test_size=0.33, random_state=42)"
   ]
  },
  {
   "cell_type": "code",
   "execution_count": 15,
   "metadata": {},
   "outputs": [
    {
     "name": "stdout",
     "output_type": "stream",
     "text": [
      "              precision    recall  f1-score   support\n",
      "\n",
      "           0       0.66      0.55      0.60        49\n",
      "           1       0.53      0.46      0.49        35\n",
      "           2       0.42      0.55      0.47        42\n",
      "\n",
      "    accuracy                           0.52       126\n",
      "   macro avg       0.54      0.52      0.52       126\n",
      "weighted avg       0.54      0.52      0.53       126\n",
      "\n",
      "Result :  [0.57692308 0.5        0.53333333 0.61333333 0.26666667]\n",
      "Mean :  0.498051282051282\n",
      "Max :  0.6133333333333333\n"
     ]
    }
   ],
   "source": [
    "# Neural Network model\n",
    "from sklearn.neural_network import MLPClassifier\n",
    "model = MLPClassifier(hidden_layer_sizes=(13,13,13),max_iter=500)\n",
    "model.fit(a_train,b_train)\n",
    "\n",
    "predictions = model.predict(a_test)\n",
    "print(classification_report(b_test,predictions))\n",
    "\n",
    "scores = cross_val_score(model, training, outputclass, cv=5, scoring='accuracy')\n",
    "print(\"Result : \", scores)\n",
    "print(\"Mean : \", scores.mean())\n",
    "print(\"Max : \", scores.max())"
   ]
  },
  {
   "cell_type": "code",
   "execution_count": 34,
   "metadata": {},
   "outputs": [
    {
     "name": "stdout",
     "output_type": "stream",
     "text": [
      "              precision    recall  f1-score   support\n",
      "\n",
      "           0       0.65      0.65      0.65        49\n",
      "           1       0.45      0.40      0.42        35\n",
      "           2       0.43      0.48      0.45        42\n",
      "\n",
      "    accuracy                           0.52       126\n",
      "   macro avg       0.51      0.51      0.51       126\n",
      "weighted avg       0.52      0.52      0.52       126\n",
      "\n",
      "Result :  [0.61538462 0.43589744 0.45333333 0.53333333 0.36      ]\n",
      "Mean :  0.47958974358974354\n",
      "Max :  0.6153846153846154\n"
     ]
    }
   ],
   "source": [
    "# Gaussian Naive Bayes model\n",
    "from sklearn.naive_bayes import GaussianNB\n",
    "model = GaussianNB()\n",
    "model.fit(a_train,b_train)\n",
    "\n",
    "predictions = model.predict(a_test)\n",
    "print(classification_report(b_test,predictions))\n",
    "\n",
    "scores = cross_val_score(model, training, outputclass, cv=5, scoring='accuracy')\n",
    "print(\"Result : \", scores)\n",
    "print(\"Mean : \", scores.mean())\n",
    "print(\"Max : \", scores.max())\n",
    "\n",
    "\n",
    "#For Confution Matrix\n",
    "# model = GaussianNB()\n",
    "# cm = ConfusionMatrix(model)\n",
    "# cm.fit(a_train, b_train)\n",
    "# cm.score(a_test, b_test)\n",
    "# cm.show()"
   ]
  },
  {
   "cell_type": "code",
   "execution_count": 17,
   "metadata": {},
   "outputs": [
    {
     "name": "stdout",
     "output_type": "stream",
     "text": [
      "              precision    recall  f1-score   support\n",
      "\n",
      "           0       0.64      0.61      0.62        49\n",
      "           1       0.48      0.40      0.44        35\n",
      "           2       0.52      0.62      0.57        42\n",
      "\n",
      "    accuracy                           0.56       126\n",
      "   macro avg       0.55      0.54      0.54       126\n",
      "weighted avg       0.56      0.56      0.55       126\n",
      "\n",
      "Result :  [0.35897436 0.52564103 0.62666667 0.53333333 0.12      ]\n",
      "Mean :  0.43292307692307697\n",
      "Max :  0.6266666666666667\n"
     ]
    }
   ],
   "source": [
    "#Decision Tree model\n",
    "from sklearn.tree import DecisionTreeClassifier\n",
    "model = DecisionTreeClassifier()\n",
    "model.fit(a_train,b_train)\n",
    "\n",
    "predictions = model.predict(a_test)\n",
    "print(classification_report(b_test,predictions))\n",
    "\n",
    "scores = cross_val_score(model, training, outputclass, cv=5, scoring='accuracy')\n",
    "print(\"Result : \", scores)\n",
    "print(\"Mean : \", scores.mean())\n",
    "print(\"Max : \", scores.max())"
   ]
  },
  {
   "cell_type": "code",
   "execution_count": 18,
   "metadata": {},
   "outputs": [
    {
     "name": "stdout",
     "output_type": "stream",
     "text": [
      "              precision    recall  f1-score   support\n",
      "\n",
      "           0       0.62      0.53      0.57        49\n",
      "           1       0.52      0.40      0.45        35\n",
      "           2       0.47      0.64      0.55        42\n",
      "\n",
      "    accuracy                           0.53       126\n",
      "   macro avg       0.54      0.52      0.52       126\n",
      "weighted avg       0.54      0.53      0.53       126\n",
      "\n",
      "Result :  [0.46153846 0.53846154 0.54666667 0.65333333 0.05333333]\n",
      "Mean :  0.45066666666666666\n",
      "Max :  0.6533333333333333\n"
     ]
    }
   ],
   "source": [
    "#SVM model\n",
    "from sklearn import svm\n",
    "model = svm.SVC(kernel='linear')\n",
    "model.fit(a_train,b_train)\n",
    "\n",
    "predictions = model.predict(a_test)\n",
    "print(classification_report(b_test,predictions))\n",
    "\n",
    "scores = cross_val_score(model, training, outputclass, cv=5, scoring='accuracy')\n",
    "print(\"Result : \", scores)\n",
    "print(\"Mean : \", scores.mean())\n",
    "print(\"Max : \", scores.max())"
   ]
  }
 ],
 "metadata": {
  "kernelspec": {
   "display_name": "Python 3",
   "language": "python",
   "name": "python3"
  },
  "language_info": {
   "codemirror_mode": {
    "name": "ipython",
    "version": 3
   },
   "file_extension": ".py",
   "mimetype": "text/x-python",
   "name": "python",
   "nbconvert_exporter": "python",
   "pygments_lexer": "ipython3",
   "version": "3.7.5"
  }
 },
 "nbformat": 4,
 "nbformat_minor": 2
}
