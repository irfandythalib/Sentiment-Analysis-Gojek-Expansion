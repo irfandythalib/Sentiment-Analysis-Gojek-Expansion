{
 "cells": [
  {
   "cell_type": "code",
   "execution_count": 1,
   "metadata": {
    "ExecuteTime": {
     "end_time": "2021-11-16T00:58:53.987863Z",
     "start_time": "2021-11-16T00:58:41.829412Z"
    }
   },
   "outputs": [],
   "source": [
    "import numpy as np\n",
    "import pandas as pd\n",
    "import csv\n",
    "import matplotlib.pyplot as plt\n",
    "from IPython.display import clear_output"
   ]
  },
  {
   "cell_type": "code",
   "execution_count": 2,
   "metadata": {
    "ExecuteTime": {
     "end_time": "2021-11-16T00:58:54.018867Z",
     "start_time": "2021-11-16T00:58:53.992864Z"
    }
   },
   "outputs": [],
   "source": [
    "def join_frame(df_left, df_left_new_col, df_left_key, df_right, df_right_key, df_right_col):\n",
    "    df_left[df_left_new_col]=\"\"\n",
    "    lendata = len(df_left)\n",
    "    progress = 1\n",
    "    for index, row in df_left.iterrows():\n",
    "        try:\n",
    "            df_left.loc[index, df_left_new_col] = df_right[(df_right[df_right_key] == row[df_left_key])][df_right_col].iloc[0]\n",
    "        except:\n",
    "            df_left.loc[index, df_left_new_col] = 'No'\n",
    "        clear_output(wait = True)\n",
    "        print(\"Progress: \",np.round(progress/lendata *100,2),\"%\")\n",
    "        progress += 1  \n",
    "    return df_left"
   ]
  },
  {
   "cell_type": "code",
   "execution_count": 3,
   "metadata": {
    "ExecuteTime": {
     "end_time": "2021-11-16T00:58:54.723560Z",
     "start_time": "2021-11-16T00:58:54.024872Z"
    }
   },
   "outputs": [],
   "source": [
    "dataset=pd.read_csv(\"result-all.csv\", encoding=\"ISO-8859–1\")\n",
    "dataset1=pd.read_csv(\"gojekallcountry-no-duplicate-1.csv\", encoding=\"ISO-8859–1\")\n",
    "dataset2=pd.read_csv(\"gojekallcountry-no-duplicate-2.csv\", encoding=\"ISO-8859–1\")\n",
    "dataset3=pd.read_csv(\"gojekallcountry-no-duplicate-3.csv\", encoding=\"ISO-8859–1\")"
   ]
  },
  {
   "cell_type": "code",
   "execution_count": 4,
   "metadata": {
    "ExecuteTime": {
     "end_time": "2021-11-16T00:59:00.213829Z",
     "start_time": "2021-11-16T00:58:59.805808Z"
    }
   },
   "outputs": [
    {
     "data": {
      "text/html": [
       "<div>\n",
       "<style scoped>\n",
       "    .dataframe tbody tr th:only-of-type {\n",
       "        vertical-align: middle;\n",
       "    }\n",
       "\n",
       "    .dataframe tbody tr th {\n",
       "        vertical-align: top;\n",
       "    }\n",
       "\n",
       "    .dataframe thead th {\n",
       "        text-align: right;\n",
       "    }\n",
       "</style>\n",
       "<table border=\"1\" class=\"dataframe\">\n",
       "  <thead>\n",
       "    <tr style=\"text-align: right;\">\n",
       "      <th></th>\n",
       "      <th>id</th>\n",
       "      <th>score</th>\n",
       "    </tr>\n",
       "  </thead>\n",
       "  <tbody>\n",
       "    <tr>\n",
       "      <th>0</th>\n",
       "      <td>1</td>\n",
       "      <td>0.500000</td>\n",
       "    </tr>\n",
       "    <tr>\n",
       "      <th>1</th>\n",
       "      <td>2</td>\n",
       "      <td>0.500000</td>\n",
       "    </tr>\n",
       "    <tr>\n",
       "      <th>2</th>\n",
       "      <td>3</td>\n",
       "      <td>0.500000</td>\n",
       "    </tr>\n",
       "    <tr>\n",
       "      <th>3</th>\n",
       "      <td>4</td>\n",
       "      <td>0.148073</td>\n",
       "    </tr>\n",
       "    <tr>\n",
       "      <th>4</th>\n",
       "      <td>5</td>\n",
       "      <td>0.721899</td>\n",
       "    </tr>\n",
       "    <tr>\n",
       "      <th>...</th>\n",
       "      <td>...</td>\n",
       "      <td>...</td>\n",
       "    </tr>\n",
       "    <tr>\n",
       "      <th>2843</th>\n",
       "      <td>2845</td>\n",
       "      <td>0.500000</td>\n",
       "    </tr>\n",
       "    <tr>\n",
       "      <th>2844</th>\n",
       "      <td>2846</td>\n",
       "      <td>0.825565</td>\n",
       "    </tr>\n",
       "    <tr>\n",
       "      <th>2845</th>\n",
       "      <td>2847</td>\n",
       "      <td>0.500000</td>\n",
       "    </tr>\n",
       "    <tr>\n",
       "      <th>2846</th>\n",
       "      <td>2848</td>\n",
       "      <td>0.500000</td>\n",
       "    </tr>\n",
       "    <tr>\n",
       "      <th>2847</th>\n",
       "      <td>2849</td>\n",
       "      <td>0.689449</td>\n",
       "    </tr>\n",
       "  </tbody>\n",
       "</table>\n",
       "<p>2848 rows × 2 columns</p>\n",
       "</div>"
      ],
      "text/plain": [
       "        id     score\n",
       "0        1  0.500000\n",
       "1        2  0.500000\n",
       "2        3  0.500000\n",
       "3        4  0.148073\n",
       "4        5  0.721899\n",
       "...    ...       ...\n",
       "2843  2845  0.500000\n",
       "2844  2846  0.825565\n",
       "2845  2847  0.500000\n",
       "2846  2848  0.500000\n",
       "2847  2849  0.689449\n",
       "\n",
       "[2848 rows x 2 columns]"
      ]
     },
     "execution_count": 4,
     "metadata": {},
     "output_type": "execute_result"
    }
   ],
   "source": [
    "dataset"
   ]
  },
  {
   "cell_type": "code",
   "execution_count": 5,
   "metadata": {
    "ExecuteTime": {
     "end_time": "2021-11-16T00:59:12.461077Z",
     "start_time": "2021-11-16T00:59:11.823465Z"
    }
   },
   "outputs": [],
   "source": [
    "#Merge No Duplicate Dataset\n",
    "frames = [dataset1, dataset2,dataset3] \n",
    "dataset123 = pd.concat(frames).drop_duplicates().reset_index(drop=True)"
   ]
  },
  {
   "cell_type": "code",
   "execution_count": 6,
   "metadata": {
    "ExecuteTime": {
     "end_time": "2021-11-16T00:59:23.889545Z",
     "start_time": "2021-11-16T00:59:23.874531Z"
    }
   },
   "outputs": [
    {
     "data": {
      "text/plain": [
       "2848"
      ]
     },
     "execution_count": 6,
     "metadata": {},
     "output_type": "execute_result"
    }
   ],
   "source": [
    "len(dataset123)"
   ]
  },
  {
   "cell_type": "code",
   "execution_count": 8,
   "metadata": {
    "ExecuteTime": {
     "end_time": "2021-11-16T00:59:59.400462Z",
     "start_time": "2021-11-16T00:59:59.392462Z"
    }
   },
   "outputs": [],
   "source": [
    "dataset['sentiment'] = ''\n",
    "dataset['sentiment_label'] = ''\n",
    "dataset['tweet'] = ''"
   ]
  },
  {
   "cell_type": "code",
   "execution_count": 9,
   "metadata": {
    "ExecuteTime": {
     "end_time": "2021-11-16T01:00:14.613730Z",
     "start_time": "2021-11-16T01:00:14.566719Z"
    }
   },
   "outputs": [],
   "source": [
    "#Labeling \n",
    "dataset.loc[dataset.score > 0, 'sentiment'] = 'Negative'\n",
    "dataset.loc[dataset.score == 0.5, 'sentiment'] = 'Neutral'\n",
    "dataset.loc[dataset.score > 0.6, 'sentiment'] = 'Positive'\n",
    "\n",
    "dataset.loc[dataset.score > 0, 'sentiment_label'] = '0'\n",
    "dataset.loc[dataset.score == 0.5, 'sentiment_label'] = '1'\n",
    "dataset.loc[dataset.score > 0.6, 'sentiment_label'] = '2'"
   ]
  },
  {
   "cell_type": "code",
   "execution_count": 11,
   "metadata": {
    "ExecuteTime": {
     "end_time": "2021-11-16T01:00:26.500300Z",
     "start_time": "2021-11-16T01:00:26.473299Z"
    }
   },
   "outputs": [
    {
     "data": {
      "text/html": [
       "<div>\n",
       "<style scoped>\n",
       "    .dataframe tbody tr th:only-of-type {\n",
       "        vertical-align: middle;\n",
       "    }\n",
       "\n",
       "    .dataframe tbody tr th {\n",
       "        vertical-align: top;\n",
       "    }\n",
       "\n",
       "    .dataframe thead th {\n",
       "        text-align: right;\n",
       "    }\n",
       "</style>\n",
       "<table border=\"1\" class=\"dataframe\">\n",
       "  <thead>\n",
       "    <tr style=\"text-align: right;\">\n",
       "      <th></th>\n",
       "      <th>id</th>\n",
       "      <th>score</th>\n",
       "      <th>sentiment</th>\n",
       "      <th>sentiment_label</th>\n",
       "      <th>tweet</th>\n",
       "    </tr>\n",
       "  </thead>\n",
       "  <tbody>\n",
       "    <tr>\n",
       "      <th>0</th>\n",
       "      <td>1</td>\n",
       "      <td>0.5</td>\n",
       "      <td>Neutral</td>\n",
       "      <td>1</td>\n",
       "      <td></td>\n",
       "    </tr>\n",
       "    <tr>\n",
       "      <th>1</th>\n",
       "      <td>2</td>\n",
       "      <td>0.5</td>\n",
       "      <td>Neutral</td>\n",
       "      <td>1</td>\n",
       "      <td></td>\n",
       "    </tr>\n",
       "    <tr>\n",
       "      <th>2</th>\n",
       "      <td>3</td>\n",
       "      <td>0.5</td>\n",
       "      <td>Neutral</td>\n",
       "      <td>1</td>\n",
       "      <td></td>\n",
       "    </tr>\n",
       "  </tbody>\n",
       "</table>\n",
       "</div>"
      ],
      "text/plain": [
       "   id  score sentiment sentiment_label tweet\n",
       "0   1    0.5   Neutral               1      \n",
       "1   2    0.5   Neutral               1      \n",
       "2   3    0.5   Neutral               1      "
      ]
     },
     "execution_count": 11,
     "metadata": {},
     "output_type": "execute_result"
    }
   ],
   "source": [
    "dataset.head(3)"
   ]
  },
  {
   "cell_type": "code",
   "execution_count": 12,
   "metadata": {
    "ExecuteTime": {
     "end_time": "2021-11-16T01:01:56.258737Z",
     "start_time": "2021-11-16T01:01:39.532510Z"
    }
   },
   "outputs": [
    {
     "name": "stdout",
     "output_type": "stream",
     "text": [
      "Progress:  100.0 %\n"
     ]
    }
   ],
   "source": [
    "#Insert tweet text from dataset123 to dataset\n",
    "new_dataset = join_frame(dataset, 'tweet', 'id', dataset123, 'id', 'tweet')"
   ]
  },
  {
   "cell_type": "code",
   "execution_count": 13,
   "metadata": {
    "ExecuteTime": {
     "end_time": "2021-11-16T01:01:56.904762Z",
     "start_time": "2021-11-16T01:01:56.893763Z"
    }
   },
   "outputs": [
    {
     "name": "stdout",
     "output_type": "stream",
     "text": [
      "1    2055\n",
      "2     666\n",
      "0     127\n",
      "Name: sentiment_label, dtype: int64\n"
     ]
    }
   ],
   "source": [
    "print(new_dataset['sentiment_label'].value_counts(dropna=False))"
   ]
  },
  {
   "cell_type": "code",
   "execution_count": 14,
   "metadata": {
    "ExecuteTime": {
     "end_time": "2021-11-16T01:01:59.569439Z",
     "start_time": "2021-11-16T01:01:59.445861Z"
    }
   },
   "outputs": [
    {
     "data": {
      "text/html": [
       "<div>\n",
       "<style scoped>\n",
       "    .dataframe tbody tr th:only-of-type {\n",
       "        vertical-align: middle;\n",
       "    }\n",
       "\n",
       "    .dataframe tbody tr th {\n",
       "        vertical-align: top;\n",
       "    }\n",
       "\n",
       "    .dataframe thead th {\n",
       "        text-align: right;\n",
       "    }\n",
       "</style>\n",
       "<table border=\"1\" class=\"dataframe\">\n",
       "  <thead>\n",
       "    <tr style=\"text-align: right;\">\n",
       "      <th></th>\n",
       "      <th>id</th>\n",
       "      <th>score</th>\n",
       "      <th>sentiment</th>\n",
       "      <th>sentiment_label</th>\n",
       "      <th>tweet</th>\n",
       "    </tr>\n",
       "  </thead>\n",
       "  <tbody>\n",
       "    <tr>\n",
       "      <th>250</th>\n",
       "      <td>251</td>\n",
       "      <td>0.834911</td>\n",
       "      <td>Positive</td>\n",
       "      <td>2</td>\n",
       "      <td>Small teams do good work. ÃÂ°Ã",
       "Â¸Ã¢ÂÂÃ",
       "ÂÃ...</td>\n",
       "    </tr>\n",
       "  </tbody>\n",
       "</table>\n",
       "</div>"
      ],
      "text/plain": [
       "      id     score sentiment sentiment_label  \\\n",
       "250  251  0.834911  Positive               2   \n",
       "\n",
       "                                                 tweet  \n",
       "250  Small teams do good work. ÃÂ°Ã\n",
       "Â¸Ã¢ÂÂÃ\n",
       "ÂÃ...  "
      ]
     },
     "execution_count": 14,
     "metadata": {},
     "output_type": "execute_result"
    }
   ],
   "source": [
    "new_dataset[new_dataset['id'] == 251]"
   ]
  },
  {
   "cell_type": "code",
   "execution_count": 15,
   "metadata": {
    "ExecuteTime": {
     "end_time": "2021-11-16T01:02:13.096319Z",
     "start_time": "2021-11-16T01:02:11.687285Z"
    }
   },
   "outputs": [],
   "source": [
    "new_dataset.to_csv(r'dataset-machine-learning.csv', index=False) "
   ]
  },
  {
   "cell_type": "code",
   "execution_count": 16,
   "metadata": {
    "ExecuteTime": {
     "end_time": "2021-11-16T01:02:13.128301Z",
     "start_time": "2021-11-16T01:02:13.100320Z"
    }
   },
   "outputs": [
    {
     "name": "stdout",
     "output_type": "stream",
     "text": [
      "Neutral     2055\n",
      "Positive     666\n",
      "Negative     127\n",
      "Name: sentiment, dtype: int64\n"
     ]
    }
   ],
   "source": [
    "# dataset.value_counts(dataset['sentiment'],dropna=False).plot.bar()\n",
    "print(dataset['sentiment'].value_counts(dropna=False))"
   ]
  }
 ],
 "metadata": {
  "kernelspec": {
   "display_name": "Python 3",
   "language": "python",
   "name": "python3"
  },
  "language_info": {
   "codemirror_mode": {
    "name": "ipython",
    "version": 3
   },
   "file_extension": ".py",
   "mimetype": "text/x-python",
   "name": "python",
   "nbconvert_exporter": "python",
   "pygments_lexer": "ipython3",
   "version": "3.7.7"
  }
 },
 "nbformat": 4,
 "nbformat_minor": 2
}
